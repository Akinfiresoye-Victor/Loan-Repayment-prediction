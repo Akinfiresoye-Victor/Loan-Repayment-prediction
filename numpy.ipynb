{
 "cells": [
  {
   "cell_type": "code",
   "execution_count": 2,
   "id": "1015eff7-1f7e-46c5-a718-7eec6bf05228",
   "metadata": {},
   "outputs": [],
   "source": [
    "import numpy as np"
   ]
  },
  {
   "cell_type": "code",
   "execution_count": 3,
   "id": "1903b35b-6224-4d84-ac05-558542687961",
   "metadata": {},
   "outputs": [
    {
     "data": {
      "text/plain": [
       "1"
      ]
     },
     "execution_count": 3,
     "metadata": {},
     "output_type": "execute_result"
    }
   ],
   "source": [
    "a=np.array([123])\n",
    "a.ndim"
   ]
  },
  {
   "cell_type": "markdown",
   "id": "6febf892-69bd-4d72-b801-68561596b03a",
   "metadata": {},
   "source": [
    "Advantages of numpy over basic python operations\n"
   ]
  },
  {
   "cell_type": "code",
   "execution_count": 4,
   "id": "4112ffa8-56e9-4dea-9537-8b487b5a717d",
   "metadata": {},
   "outputs": [],
   "source": [
    "import time\n",
    "import sys"
   ]
  },
  {
   "cell_type": "code",
   "execution_count": 5,
   "id": "ae1ce57a-c622-49c2-8b0e-4bebc118ede2",
   "metadata": {},
   "outputs": [
    {
     "name": "stdout",
     "output_type": "stream",
     "text": [
      "28000\n"
     ]
    }
   ],
   "source": [
    "b=range(1000)\n",
    "print(sys.getsizeof(5)* len(b))"
   ]
  },
  {
   "cell_type": "code",
   "execution_count": 6,
   "id": "7a187dbb-c0e6-4dad-a309-4cc4125302c5",
   "metadata": {},
   "outputs": [
    {
     "name": "stdout",
     "output_type": "stream",
     "text": [
      "8000\n"
     ]
    }
   ],
   "source": [
    "c=np.arange(1000)\n",
    "print(c.size*c.itemsize)"
   ]
  },
  {
   "cell_type": "code",
   "execution_count": 7,
   "id": "d8fc056d-e086-46d4-901d-23c3db9f6de2",
   "metadata": {},
   "outputs": [],
   "source": [
    "size=100000"
   ]
  },
  {
   "cell_type": "code",
   "execution_count": 8,
   "id": "325159c2-5be0-4c40-9953-dc81344d0de6",
   "metadata": {},
   "outputs": [],
   "source": [
    "L1= range(size)\n",
    "L2= range(size)\n",
    "A1=np.arange(size)\n",
    "A2=np.arange(size)"
   ]
  },
  {
   "cell_type": "code",
   "execution_count": 9,
   "id": "5535ca65-0cba-4a19-9cb8-170bad2253ae",
   "metadata": {},
   "outputs": [
    {
     "name": "stdout",
     "output_type": "stream",
     "text": [
      "Python list took: 33.377885818481445\n"
     ]
    }
   ],
   "source": [
    "start= time.time()\n",
    "result= [(x+y) for x,y in zip(L1, L2)]\n",
    "result= [(x+y) for x,y in zip(L1, L2)]\n",
    "print(f'Python list took: {(time.time() - start) * 1000}')"
   ]
  },
  {
   "cell_type": "code",
   "execution_count": 10,
   "id": "387cfe29-ff05-40a4-8ab2-dd4e08d55f08",
   "metadata": {},
   "outputs": [
    {
     "name": "stdout",
     "output_type": "stream",
     "text": [
      "Python array took: 0.0\n"
     ]
    }
   ],
   "source": [
    "start=time.time()\n",
    "result=A1 + A2\n",
    "\n",
    "print(f'Python array took: {(time.time() - start) * 1000}')"
   ]
  },
  {
   "cell_type": "markdown",
   "id": "f43e20cd-6587-48b2-a477-6f80eff68cd7",
   "metadata": {},
   "source": [
    ".........................................."
   ]
  },
  {
   "cell_type": "markdown",
   "id": "15e61f3e-a228-4099-ac11-c1767a6edcda",
   "metadata": {},
   "source": [
    "Basic numpy syntax and array management"
   ]
  },
  {
   "cell_type": "code",
   "execution_count": 19,
   "id": "30c4c422-cbe4-4cd4-9c58-b5bbcb02a5f7",
   "metadata": {},
   "outputs": [
    {
     "data": {
      "text/plain": [
       "array([[1, 2, 3],\n",
       "       [3, 4, 5],\n",
       "       [5, 6, 7]])"
      ]
     },
     "execution_count": 19,
     "metadata": {},
     "output_type": "execute_result"
    }
   ],
   "source": [
    "a=np.array([[1,2,3], [3,4,5], [5,6,7]])\n",
    "a"
   ]
  },
  {
   "cell_type": "code",
   "execution_count": 20,
   "id": "8e7b0aea-9add-4c13-9fc6-9c7f65953632",
   "metadata": {},
   "outputs": [
    {
     "data": {
      "text/plain": [
       "2"
      ]
     },
     "execution_count": 20,
     "metadata": {},
     "output_type": "execute_result"
    }
   ],
   "source": [
    "a.ndim"
   ]
  },
  {
   "cell_type": "code",
   "execution_count": 27,
   "id": "3c9405db-f247-479d-aea4-3cd16a1f7727",
   "metadata": {},
   "outputs": [
    {
     "data": {
      "text/plain": [
       "array([[1., 2., 3.],\n",
       "       [3., 4., 5.],\n",
       "       [5., 6., 7.]])"
      ]
     },
     "execution_count": 27,
     "metadata": {},
     "output_type": "execute_result"
    }
   ],
   "source": [
    "a=np.array([[1,2,3], [3,4,5], [5,6,7]], dtype=np.float64)\n",
    "a"
   ]
  },
  {
   "cell_type": "code",
   "execution_count": 28,
   "id": "36fe45bb-5dc4-4fdb-879f-7d4494eb965a",
   "metadata": {},
   "outputs": [
    {
     "data": {
      "text/plain": [
       "array([[1.+0.j, 2.+0.j, 3.+0.j],\n",
       "       [3.+0.j, 4.+0.j, 5.+0.j],\n",
       "       [5.+0.j, 6.+0.j, 7.+0.j]])"
      ]
     },
     "execution_count": 28,
     "metadata": {},
     "output_type": "execute_result"
    }
   ],
   "source": [
    "a=np.array([[1,2,3], [3,4,5], [5,6,7]], complex)\n",
    "a"
   ]
  },
  {
   "cell_type": "code",
   "execution_count": 30,
   "id": "80a6749e-4d28-4813-b5f0-23b7be3bffef",
   "metadata": {},
   "outputs": [
    {
     "data": {
      "text/plain": [
       "array([[0., 0., 0., 0.],\n",
       "       [0., 0., 0., 0.],\n",
       "       [0., 0., 0., 0.]])"
      ]
     },
     "execution_count": 30,
     "metadata": {},
     "output_type": "execute_result"
    }
   ],
   "source": [
    "np.zeros((3,4))"
   ]
  },
  {
   "cell_type": "code",
   "execution_count": 35,
   "id": "8249ef18-e4c0-448d-8f13-1cbb9f54c1ac",
   "metadata": {},
   "outputs": [
    {
     "data": {
      "text/plain": [
       "array([[1., 1., 1., 1.],\n",
       "       [1., 1., 1., 1.],\n",
       "       [1., 1., 1., 1.]])"
      ]
     },
     "execution_count": 35,
     "metadata": {},
     "output_type": "execute_result"
    }
   ],
   "source": [
    "np.ones((3,4))"
   ]
  },
  {
   "cell_type": "code",
   "execution_count": 39,
   "id": "48ebc006-e96a-44a9-b683-df36aeef9771",
   "metadata": {},
   "outputs": [
    {
     "name": "stdout",
     "output_type": "stream",
     "text": [
      "range(0, 5)\n"
     ]
    }
   ],
   "source": [
    "l=range(5)\n",
    "print(l)"
   ]
  },
  {
   "cell_type": "code",
   "execution_count": 38,
   "id": "a513b92f-aa72-4702-824b-52cee705ee5f",
   "metadata": {},
   "outputs": [
    {
     "data": {
      "text/plain": [
       "array([0, 1, 2, 3, 4])"
      ]
     },
     "execution_count": 38,
     "metadata": {},
     "output_type": "execute_result"
    }
   ],
   "source": [
    "np.arange(5)"
   ]
  },
  {
   "cell_type": "markdown",
   "id": "c157d3b9-993a-469b-9eb2-d2ca3256b169",
   "metadata": {},
   "source": [
    "Basic functions that comes with numpy"
   ]
  },
  {
   "cell_type": "code",
   "execution_count": 42,
   "id": "a253e059-aa17-43c3-967d-1f818d45c411",
   "metadata": {},
   "outputs": [
    {
     "name": "stdout",
     "output_type": "stream",
     "text": [
      "concatenation example:\n",
      "['helloabc' 'h1xyz']\n"
     ]
    }
   ],
   "source": [
    "print('concatenation example:')\n",
    "print(np.char.add(['hello', 'h1'], ['abc', 'xyz']))"
   ]
  },
  {
   "cell_type": "code",
   "execution_count": 44,
   "id": "a7448984-51b7-443d-9cda-cd2f4c7c4ab1",
   "metadata": {},
   "outputs": [
    {
     "name": "stdout",
     "output_type": "stream",
     "text": [
      "Hello Hello Hello \n"
     ]
    }
   ],
   "source": [
    "print(np.char.multiply('Hello ', 3))"
   ]
  },
  {
   "cell_type": "code",
   "execution_count": 46,
   "id": "b2032b01-0d8b-4170-bf24-60599714d38b",
   "metadata": {},
   "outputs": [
    {
     "name": "stdout",
     "output_type": "stream",
     "text": [
      "-------Hello--------\n"
     ]
    }
   ],
   "source": [
    "print(np.char.center('Hello', 20, fillchar= '-'))"
   ]
  },
  {
   "cell_type": "code",
   "execution_count": 51,
   "id": "00f40f83-23f8-4e62-8556-4fc00bf5482a",
   "metadata": {},
   "outputs": [
    {
     "name": "stdout",
     "output_type": "stream",
     "text": [
      "Hello na whatsup\n"
     ]
    }
   ],
   "source": [
    "print(np.char.capitalize('hello na whatsup'))"
   ]
  },
  {
   "cell_type": "code",
   "execution_count": 52,
   "id": "4856d348-66e7-446e-9f7c-c3d738e5dd48",
   "metadata": {},
   "outputs": [
    {
     "name": "stdout",
     "output_type": "stream",
     "text": [
      "Hello My Guy\n"
     ]
    }
   ],
   "source": [
    "print(np.char.title('hello my guy'))"
   ]
  },
  {
   "cell_type": "code",
   "execution_count": 55,
   "id": "0f968d9b-b217-42ab-afb7-cd1588c965ce",
   "metadata": {},
   "outputs": [
    {
     "name": "stdout",
     "output_type": "stream",
     "text": [
      "hello my guy\n",
      "['hello' 'my guy']\n"
     ]
    }
   ],
   "source": [
    "print(np.char.lower('HELLO MY GUY'))\n",
    "print(np.char.lower(['HELLO', 'MY GUY']))#also the same for .upper"
   ]
  },
  {
   "cell_type": "code",
   "execution_count": 58,
   "id": "c00d9715-aa52-4ac4-986b-3578d919f85c",
   "metadata": {},
   "outputs": [
    {
     "name": "stdout",
     "output_type": "stream",
     "text": [
      "['hello', 'my', 'guy']\n"
     ]
    }
   ],
   "source": [
    "print(np.char.split('hello my guy'))"
   ]
  },
  {
   "cell_type": "code",
   "execution_count": 59,
   "id": "060e9629-adde-45d5-90a0-6a8ec0cc3a01",
   "metadata": {},
   "outputs": [
    {
     "name": "stdout",
     "output_type": "stream",
     "text": [
      "['hello', 'my guy']\n"
     ]
    }
   ],
   "source": [
    "print(np.char.splitlines('hello\\nmy guy'))"
   ]
  },
  {
   "cell_type": "code",
   "execution_count": 61,
   "id": "c498b738-62a3-45bf-b917-798f4443673a",
   "metadata": {},
   "outputs": [
    {
     "name": "stdout",
     "output_type": "stream",
     "text": [
      "['niat' 'dmin' 'calab']\n"
     ]
    }
   ],
   "source": [
    "print(np.char.strip(['aniata', 'admin', 'calaba'], 'a'))"
   ]
  },
  {
   "cell_type": "code",
   "execution_count": 62,
   "id": "90d43cdb-d4c0-4b8f-9fd8-12844d6c15b4",
   "metadata": {},
   "outputs": [
    {
     "name": "stdout",
     "output_type": "stream",
     "text": [
      "['d:a:y' 'y-m-d']\n"
     ]
    }
   ],
   "source": [
    "print(np.char.join([':', '-'], ['day', 'ymd']))"
   ]
  },
  {
   "cell_type": "code",
   "execution_count": 63,
   "id": "1c0b84ce-ffd4-400e-8cf2-322f4aff7397",
   "metadata": {},
   "outputs": [
    {
     "name": "stdout",
     "output_type": "stream",
     "text": [
      "he was a good dancer\n"
     ]
    }
   ],
   "source": [
    "print(np.char.replace('he is a good dancer', 'is', 'was'))"
   ]
  },
  {
   "cell_type": "code",
   "execution_count": null,
   "id": "123d0924-8bd3-4ffd-b171-ebb548fa59ae",
   "metadata": {},
   "outputs": [],
   "source": []
  },
  {
   "cell_type": "code",
   "execution_count": null,
   "id": "17defd1d-0a08-445f-8245-7ceb4094de7e",
   "metadata": {},
   "outputs": [],
   "source": []
  }
 ],
 "metadata": {
  "kernelspec": {
   "display_name": "Python 3 (ipykernel)",
   "language": "python",
   "name": "python3"
  },
  "language_info": {
   "codemirror_mode": {
    "name": "ipython",
    "version": 3
   },
   "file_extension": ".py",
   "mimetype": "text/x-python",
   "name": "python",
   "nbconvert_exporter": "python",
   "pygments_lexer": "ipython3",
   "version": "3.12.11"
  }
 },
 "nbformat": 4,
 "nbformat_minor": 5
}
