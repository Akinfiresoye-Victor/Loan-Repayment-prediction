{
 "cells": [
  {
   "cell_type": "markdown",
   "id": "eba15a60-d7c2-47a8-a472-d95bb650cfb6",
   "metadata": {},
   "source": [
    "Pandas Tutorial"
   ]
  },
  {
   "cell_type": "code",
   "execution_count": 2,
   "id": "c76d5d8e-159e-44e1-b18f-7eefb7dd4d17",
   "metadata": {},
   "outputs": [],
   "source": [
    "import pandas as pd"
   ]
  },
  {
   "cell_type": "code",
   "execution_count": 3,
   "id": "bc00b981-da3a-481a-8fc5-c282d68e82e3",
   "metadata": {},
   "outputs": [
    {
     "name": "stdout",
     "output_type": "stream",
     "text": [
      "2.3.2\n"
     ]
    }
   ],
   "source": [
    "#Checking the version of pandas\n",
    "print(pd.__version__)"
   ]
  },
  {
   "cell_type": "markdown",
   "id": "a807f98d-30e1-4cf8-92ab-c79fcad02142",
   "metadata": {},
   "source": [
    "Series create, manipulate, query, delete\n"
   ]
  },
  {
   "cell_type": "code",
   "execution_count": 4,
   "id": "07d2b431-f701-4c5c-9efe-5c2c826258b8",
   "metadata": {},
   "outputs": [
    {
     "data": {
      "text/plain": [
       "0    0.1\n",
       "1    1.3\n",
       "2    2.0\n",
       "3    3.4\n",
       "4    4.9\n",
       "dtype: float64"
      ]
     },
     "execution_count": 4,
     "metadata": {},
     "output_type": "execute_result"
    }
   ],
   "source": [
    "# creating a list from a list\n",
    "arr=[0.1, 1.3, 2.0, 3.4, 4.9]\n",
    "s1= pd.Series(arr)\n",
    "s1"
   ]
  },
  {
   "cell_type": "code",
   "execution_count": 5,
   "id": "800dba7f-5e50-4f68-be39-aa163fa931c9",
   "metadata": {},
   "outputs": [
    {
     "data": {
      "text/plain": [
       "1    0.1\n",
       "2    1.3\n",
       "3    2.0\n",
       "4    3.4\n",
       "7    4.9\n",
       "dtype: float64"
      ]
     },
     "execution_count": 5,
     "metadata": {},
     "output_type": "execute_result"
    }
   ],
   "source": [
    " #the order is used to like describe how we want our index to look like by default it starts counting from zero\n",
    "order= [1,2,3,4,7]\n",
    "s2=pd.Series(arr, index=order)\n",
    "s2"
   ]
  },
  {
   "cell_type": "code",
   "execution_count": 6,
   "id": "c58d0bee-8c90-4ff8-9770-378af931d7f6",
   "metadata": {},
   "outputs": [
    {
     "data": {
      "text/plain": [
       "a   -1.041819\n",
       "b    0.508976\n",
       "c    0.345865\n",
       "d    0.832655\n",
       "e    0.031384\n",
       "dtype: float64"
      ]
     },
     "execution_count": 6,
     "metadata": {},
     "output_type": "execute_result"
    }
   ],
   "source": [
    "import numpy as np\n",
    "n=np.random.randn(5) #creating a random Ndarray\n",
    "index=['a', 'b', 'c', 'd', 'e']\n",
    "s2=pd.Series(n, index=index)\n",
    "s2"
   ]
  },
  {
   "cell_type": "code",
   "execution_count": 7,
   "id": "44fd8f1c-68db-4005-a758-c8e0f309b800",
   "metadata": {},
   "outputs": [
    {
     "data": {
      "text/plain": [
       "a    1\n",
       "b    2\n",
       "c    3\n",
       "d    4\n",
       "e    5\n",
       "dtype: int64"
      ]
     },
     "execution_count": 7,
     "metadata": {},
     "output_type": "execute_result"
    }
   ],
   "source": [
    "d= {'a':1, 'b':2, 'c':3, 'd':4, 'e':5}\n",
    "s3=pd.Series(d)\n",
    "s3"
   ]
  },
  {
   "cell_type": "code",
   "execution_count": 8,
   "id": "1a5255de-ac65-4d9d-b27e-5fe72c12069a",
   "metadata": {},
   "outputs": [
    {
     "data": {
      "text/plain": [
       "a    0.1\n",
       "b    1.3\n",
       "c    2.0\n",
       "d    3.4\n",
       "e    4.9\n",
       "dtype: float64"
      ]
     },
     "execution_count": 8,
     "metadata": {},
     "output_type": "execute_result"
    }
   ],
   "source": [
    "#changing our index of an already data in series\n",
    "s1.index= ['a', 'b', 'c', 'd', 'e']\n",
    "s1"
   ]
  },
  {
   "cell_type": "code",
   "execution_count": 9,
   "id": "0250a9d1-4b44-4730-a908-8d8ab446d085",
   "metadata": {},
   "outputs": [
    {
     "data": {
      "text/plain": [
       "a    0.1\n",
       "b    1.3\n",
       "c    2.0\n",
       "dtype: float64"
      ]
     },
     "execution_count": 9,
     "metadata": {},
     "output_type": "execute_result"
    }
   ],
   "source": [
    "#slicing/selection\n",
    "s1[:3] #this will select the first 3 data from our series"
   ]
  },
  {
   "cell_type": "code",
   "execution_count": 10,
   "id": "b2fa87a2-8626-4dcd-8dfd-6f5bdd87f7af",
   "metadata": {
    "scrolled": true
   },
   "outputs": [
    {
     "data": {
      "text/plain": [
       "a    0.1\n",
       "b    1.3\n",
       "c    2.0\n",
       "d    3.4\n",
       "e    4.9\n",
       "a    1.0\n",
       "b    2.0\n",
       "c    3.0\n",
       "d    4.0\n",
       "e    5.0\n",
       "dtype: float64"
      ]
     },
     "execution_count": 10,
     "metadata": {},
     "output_type": "execute_result"
    }
   ],
   "source": [
    "s4= pd.concat([s1, s3])\n",
    "s4"
   ]
  },
  {
   "cell_type": "code",
   "execution_count": 11,
   "id": "b27ccdcf-ec91-4631-aeda-fc4330088a73",
   "metadata": {},
   "outputs": [
    {
     "data": {
      "text/plain": [
       "a    0.1\n",
       "b    1.3\n",
       "c    2.0\n",
       "d    3.4\n",
       "a    1.0\n",
       "b    2.0\n",
       "c    3.0\n",
       "d    4.0\n",
       "dtype: float64"
      ]
     },
     "execution_count": 11,
     "metadata": {},
     "output_type": "execute_result"
    }
   ],
   "source": [
    "s4.drop('e')"
   ]
  },
  {
   "cell_type": "markdown",
   "id": "1f4e12f5-0b1b-4a57-849e-5fac53d21b58",
   "metadata": {},
   "source": [
    "Series Operations "
   ]
  },
  {
   "cell_type": "code",
   "execution_count": 12,
   "id": "fdee3e7d-3723-4acf-9a63-4532cb2cfb29",
   "metadata": {},
   "outputs": [],
   "source": [
    "arr1= [0, 1, 2, 3, 4, 5, 7]\n",
    "arr2= [6, 7, 8, 9, 5]"
   ]
  },
  {
   "cell_type": "code",
   "execution_count": 13,
   "id": "b0360e40-76af-40d9-85a4-4ff9a59b298a",
   "metadata": {},
   "outputs": [
    {
     "data": {
      "text/plain": [
       "0    6\n",
       "1    7\n",
       "2    8\n",
       "3    9\n",
       "4    5\n",
       "dtype: int64"
      ]
     },
     "execution_count": 13,
     "metadata": {},
     "output_type": "execute_result"
    }
   ],
   "source": [
    "s5= pd.Series(arr2)\n",
    "s5"
   ]
  },
  {
   "cell_type": "code",
   "execution_count": 14,
   "id": "e76cfe11-61d5-4ad5-b250-56129c843bf5",
   "metadata": {},
   "outputs": [
    {
     "data": {
      "text/plain": [
       "0    0\n",
       "1    1\n",
       "2    2\n",
       "3    3\n",
       "4    4\n",
       "5    5\n",
       "6    7\n",
       "dtype: int64"
      ]
     },
     "execution_count": 14,
     "metadata": {},
     "output_type": "execute_result"
    }
   ],
   "source": [
    "s6= pd.Series(arr1)\n",
    "s6"
   ]
  },
  {
   "cell_type": "code",
   "execution_count": 15,
   "id": "5ab9a49a-98f8-44be-916b-6aa871458fc8",
   "metadata": {},
   "outputs": [
    {
     "data": {
      "text/plain": [
       "0     6.0\n",
       "1     8.0\n",
       "2    10.0\n",
       "3    12.0\n",
       "4     9.0\n",
       "5     NaN\n",
       "6     NaN\n",
       "dtype: float64"
      ]
     },
     "execution_count": 15,
     "metadata": {},
     "output_type": "execute_result"
    }
   ],
   "source": [
    "s5.add(s6)"
   ]
  },
  {
   "cell_type": "code",
   "execution_count": 16,
   "id": "ab231c1c-5326-49fa-b43c-cda29226bcab",
   "metadata": {},
   "outputs": [
    {
     "data": {
      "text/plain": [
       "0    6.0\n",
       "1    6.0\n",
       "2    6.0\n",
       "3    6.0\n",
       "4    1.0\n",
       "5    NaN\n",
       "6    NaN\n",
       "dtype: float64"
      ]
     },
     "execution_count": 16,
     "metadata": {},
     "output_type": "execute_result"
    }
   ],
   "source": [
    "s5.sub(s6)"
   ]
  },
  {
   "cell_type": "code",
   "execution_count": 17,
   "id": "7e185c57-a235-41ec-9790-f423624c169d",
   "metadata": {},
   "outputs": [
    {
     "data": {
      "text/plain": [
       "0     0.0\n",
       "1     7.0\n",
       "2    16.0\n",
       "3    27.0\n",
       "4    20.0\n",
       "5     NaN\n",
       "6     NaN\n",
       "dtype: float64"
      ]
     },
     "execution_count": 17,
     "metadata": {},
     "output_type": "execute_result"
    }
   ],
   "source": [
    "s5.mul(s6)"
   ]
  },
  {
   "cell_type": "code",
   "execution_count": 18,
   "id": "623ebbff-2169-4c63-bd81-7ac195978ec8",
   "metadata": {},
   "outputs": [
    {
     "data": {
      "text/plain": [
       "0     inf\n",
       "1    7.00\n",
       "2    4.00\n",
       "3    3.00\n",
       "4    1.25\n",
       "5     NaN\n",
       "6     NaN\n",
       "dtype: float64"
      ]
     },
     "execution_count": 18,
     "metadata": {},
     "output_type": "execute_result"
    }
   ],
   "source": [
    "s5.div(s6)"
   ]
  },
  {
   "cell_type": "code",
   "execution_count": 19,
   "id": "279e56c8-2bc1-4555-8bfd-5cb276a12ea9",
   "metadata": {},
   "outputs": [
    {
     "name": "stdout",
     "output_type": "stream",
     "text": [
      "median 3.0\n",
      "max 7\n",
      "min 0\n"
     ]
    }
   ],
   "source": [
    "print('median', s6.median())\n",
    "print('max', s6.max())\n",
    "print('min', s6.min())"
   ]
  },
  {
   "cell_type": "markdown",
   "id": "a98f3fd7-bc59-4599-90fa-e0114676b96b",
   "metadata": {},
   "source": [
    "Creating/Woring with dataframe"
   ]
  },
  {
   "cell_type": "code",
   "execution_count": 20,
   "id": "ba4a8e4b-3998-4c29-8e02-3e6694314b41",
   "metadata": {},
   "outputs": [
    {
     "data": {
      "text/html": [
       "<div>\n",
       "<style scoped>\n",
       "    .dataframe tbody tr th:only-of-type {\n",
       "        vertical-align: middle;\n",
       "    }\n",
       "\n",
       "    .dataframe tbody tr th {\n",
       "        vertical-align: top;\n",
       "    }\n",
       "\n",
       "    .dataframe thead th {\n",
       "        text-align: right;\n",
       "    }\n",
       "</style>\n",
       "<table border=\"1\" class=\"dataframe\">\n",
       "  <thead>\n",
       "    <tr style=\"text-align: right;\">\n",
       "      <th></th>\n",
       "      <th>A</th>\n",
       "      <th>B</th>\n",
       "      <th>C</th>\n",
       "      <th>D</th>\n",
       "    </tr>\n",
       "  </thead>\n",
       "  <tbody>\n",
       "    <tr>\n",
       "      <th>2025-09-03 07:20:52.329481</th>\n",
       "      <td>-0.460590</td>\n",
       "      <td>-0.598403</td>\n",
       "      <td>-0.947482</td>\n",
       "      <td>0.942105</td>\n",
       "    </tr>\n",
       "    <tr>\n",
       "      <th>2025-09-04 07:20:52.329481</th>\n",
       "      <td>0.529510</td>\n",
       "      <td>0.101525</td>\n",
       "      <td>-0.152981</td>\n",
       "      <td>-1.089093</td>\n",
       "    </tr>\n",
       "    <tr>\n",
       "      <th>2025-09-05 07:20:52.329481</th>\n",
       "      <td>-1.248549</td>\n",
       "      <td>-0.747699</td>\n",
       "      <td>0.687673</td>\n",
       "      <td>0.637050</td>\n",
       "    </tr>\n",
       "    <tr>\n",
       "      <th>2025-09-06 07:20:52.329481</th>\n",
       "      <td>-1.091792</td>\n",
       "      <td>0.039008</td>\n",
       "      <td>0.064174</td>\n",
       "      <td>-2.499956</td>\n",
       "    </tr>\n",
       "    <tr>\n",
       "      <th>2025-09-07 07:20:52.329481</th>\n",
       "      <td>-0.159992</td>\n",
       "      <td>-0.212281</td>\n",
       "      <td>0.029449</td>\n",
       "      <td>0.612755</td>\n",
       "    </tr>\n",
       "    <tr>\n",
       "      <th>2025-09-08 07:20:52.329481</th>\n",
       "      <td>0.133360</td>\n",
       "      <td>0.059070</td>\n",
       "      <td>1.099958</td>\n",
       "      <td>-0.192691</td>\n",
       "    </tr>\n",
       "  </tbody>\n",
       "</table>\n",
       "</div>"
      ],
      "text/plain": [
       "                                   A         B         C         D\n",
       "2025-09-03 07:20:52.329481 -0.460590 -0.598403 -0.947482  0.942105\n",
       "2025-09-04 07:20:52.329481  0.529510  0.101525 -0.152981 -1.089093\n",
       "2025-09-05 07:20:52.329481 -1.248549 -0.747699  0.687673  0.637050\n",
       "2025-09-06 07:20:52.329481 -1.091792  0.039008  0.064174 -2.499956\n",
       "2025-09-07 07:20:52.329481 -0.159992 -0.212281  0.029449  0.612755\n",
       "2025-09-08 07:20:52.329481  0.133360  0.059070  1.099958 -0.192691"
      ]
     },
     "execution_count": 20,
     "metadata": {},
     "output_type": "execute_result"
    }
   ],
   "source": [
    "dates= pd.date_range('today', periods=6) #gives us a time sequesnce so we can use as index\n",
    "num_arr= np.random.randn(6,4) #import numpy random array\n",
    "columns= ['A', 'B', 'C', 'D'] #use the table as the column name \n",
    "df1= pd.DataFrame(num_arr, index=dates, columns=columns)\n",
    "df1"
   ]
  },
  {
   "cell_type": "code",
   "execution_count": 21,
   "id": "1b849b18-06f7-44f8-a549-7966d44476ec",
   "metadata": {},
   "outputs": [
    {
     "data": {
      "text/html": [
       "<div>\n",
       "<style scoped>\n",
       "    .dataframe tbody tr th:only-of-type {\n",
       "        vertical-align: middle;\n",
       "    }\n",
       "\n",
       "    .dataframe tbody tr th {\n",
       "        vertical-align: top;\n",
       "    }\n",
       "\n",
       "    .dataframe thead th {\n",
       "        text-align: right;\n",
       "    }\n",
       "</style>\n",
       "<table border=\"1\" class=\"dataframe\">\n",
       "  <thead>\n",
       "    <tr style=\"text-align: right;\">\n",
       "      <th></th>\n",
       "      <th>Student_ID</th>\n",
       "      <th>Name</th>\n",
       "      <th>Age</th>\n",
       "      <th>Grade</th>\n",
       "      <th>City</th>\n",
       "    </tr>\n",
       "  </thead>\n",
       "  <tbody>\n",
       "    <tr>\n",
       "      <th>A</th>\n",
       "      <td>101</td>\n",
       "      <td>Alice</td>\n",
       "      <td>2.5</td>\n",
       "      <td>85</td>\n",
       "      <td>New York</td>\n",
       "    </tr>\n",
       "    <tr>\n",
       "      <th>B</th>\n",
       "      <td>102</td>\n",
       "      <td>Bob</td>\n",
       "      <td>3.0</td>\n",
       "      <td>92</td>\n",
       "      <td>Los Angeles</td>\n",
       "    </tr>\n",
       "    <tr>\n",
       "      <th>C</th>\n",
       "      <td>103</td>\n",
       "      <td>Charlie</td>\n",
       "      <td>NaN</td>\n",
       "      <td>78</td>\n",
       "      <td>Chicago</td>\n",
       "    </tr>\n",
       "  </tbody>\n",
       "</table>\n",
       "</div>"
      ],
      "text/plain": [
       "   Student_ID     Name  Age  Grade         City\n",
       "A         101    Alice  2.5     85     New York\n",
       "B         102      Bob  3.0     92  Los Angeles\n",
       "C         103  Charlie  NaN     78      Chicago"
      ]
     },
     "execution_count": 21,
     "metadata": {},
     "output_type": "execute_result"
    }
   ],
   "source": [
    "#dataframe with a dictionary array\n",
    "student_data = {\n",
    "    'Student_ID': [101, 102, 103],\n",
    "    'Name': ['Alice', 'Bob', 'Charlie'],\n",
    "    'Age': [2.5, 3, np.nan],\n",
    "    'Grade': [85, 92, 78],\n",
    "    'City': ['New York', 'Los Angeles', 'Chicago']\n",
    "}\n",
    "\n",
    "labels= ['A', 'B', 'C']\n",
    "df2= pd.DataFrame(student_data, index=labels)\n",
    "df2"
   ]
  },
  {
   "cell_type": "code",
   "execution_count": 22,
   "id": "c49f84e5-83cd-4678-ade8-f28abe54048f",
   "metadata": {},
   "outputs": [
    {
     "data": {
      "text/plain": [
       "Student_ID      int64\n",
       "Name           object\n",
       "Age           float64\n",
       "Grade           int64\n",
       "City           object\n",
       "dtype: object"
      ]
     },
     "execution_count": 22,
     "metadata": {},
     "output_type": "execute_result"
    }
   ],
   "source": [
    "df2.dtypes #get each data type of each column"
   ]
  },
  {
   "cell_type": "code",
   "execution_count": 23,
   "id": "c51311a9-664e-48b3-9171-3cc41738e08e",
   "metadata": {},
   "outputs": [
    {
     "data": {
      "text/html": [
       "<div>\n",
       "<style scoped>\n",
       "    .dataframe tbody tr th:only-of-type {\n",
       "        vertical-align: middle;\n",
       "    }\n",
       "\n",
       "    .dataframe tbody tr th {\n",
       "        vertical-align: top;\n",
       "    }\n",
       "\n",
       "    .dataframe thead th {\n",
       "        text-align: right;\n",
       "    }\n",
       "</style>\n",
       "<table border=\"1\" class=\"dataframe\">\n",
       "  <thead>\n",
       "    <tr style=\"text-align: right;\">\n",
       "      <th></th>\n",
       "      <th>Student_ID</th>\n",
       "      <th>Name</th>\n",
       "      <th>Age</th>\n",
       "      <th>Grade</th>\n",
       "      <th>City</th>\n",
       "    </tr>\n",
       "  </thead>\n",
       "  <tbody>\n",
       "    <tr>\n",
       "      <th>A</th>\n",
       "      <td>101</td>\n",
       "      <td>Alice</td>\n",
       "      <td>2.5</td>\n",
       "      <td>85</td>\n",
       "      <td>New York</td>\n",
       "    </tr>\n",
       "    <tr>\n",
       "      <th>B</th>\n",
       "      <td>102</td>\n",
       "      <td>Bob</td>\n",
       "      <td>3.0</td>\n",
       "      <td>92</td>\n",
       "      <td>Los Angeles</td>\n",
       "    </tr>\n",
       "  </tbody>\n",
       "</table>\n",
       "</div>"
      ],
      "text/plain": [
       "   Student_ID   Name  Age  Grade         City\n",
       "A         101  Alice  2.5     85     New York\n",
       "B         102    Bob  3.0     92  Los Angeles"
      ]
     },
     "execution_count": 23,
     "metadata": {},
     "output_type": "execute_result"
    }
   ],
   "source": [
    "df2.head(2) #this will get the first 2 data from the top but by default will get the first 5 "
   ]
  },
  {
   "cell_type": "code",
   "execution_count": 24,
   "id": "5da3e0dd-a18d-4b54-af88-030ec0c2de38",
   "metadata": {},
   "outputs": [
    {
     "data": {
      "text/html": [
       "<div>\n",
       "<style scoped>\n",
       "    .dataframe tbody tr th:only-of-type {\n",
       "        vertical-align: middle;\n",
       "    }\n",
       "\n",
       "    .dataframe tbody tr th {\n",
       "        vertical-align: top;\n",
       "    }\n",
       "\n",
       "    .dataframe thead th {\n",
       "        text-align: right;\n",
       "    }\n",
       "</style>\n",
       "<table border=\"1\" class=\"dataframe\">\n",
       "  <thead>\n",
       "    <tr style=\"text-align: right;\">\n",
       "      <th></th>\n",
       "      <th>Student_ID</th>\n",
       "      <th>Name</th>\n",
       "      <th>Age</th>\n",
       "      <th>Grade</th>\n",
       "      <th>City</th>\n",
       "    </tr>\n",
       "  </thead>\n",
       "  <tbody>\n",
       "    <tr>\n",
       "      <th>B</th>\n",
       "      <td>102</td>\n",
       "      <td>Bob</td>\n",
       "      <td>3.0</td>\n",
       "      <td>92</td>\n",
       "      <td>Los Angeles</td>\n",
       "    </tr>\n",
       "    <tr>\n",
       "      <th>C</th>\n",
       "      <td>103</td>\n",
       "      <td>Charlie</td>\n",
       "      <td>NaN</td>\n",
       "      <td>78</td>\n",
       "      <td>Chicago</td>\n",
       "    </tr>\n",
       "  </tbody>\n",
       "</table>\n",
       "</div>"
      ],
      "text/plain": [
       "   Student_ID     Name  Age  Grade         City\n",
       "B         102      Bob  3.0     92  Los Angeles\n",
       "C         103  Charlie  NaN     78      Chicago"
      ]
     },
     "execution_count": 24,
     "metadata": {},
     "output_type": "execute_result"
    }
   ],
   "source": [
    "df2.tail(2)#this will get the last 2 data but bu default it would get the last 5 data"
   ]
  },
  {
   "cell_type": "code",
   "execution_count": 25,
   "id": "8a55347d-9ea1-4503-b7f1-6446206e6830",
   "metadata": {},
   "outputs": [
    {
     "name": "stdout",
     "output_type": "stream",
     "text": [
      "Index(['A', 'B', 'C'], dtype='object')\n"
     ]
    },
    {
     "data": {
      "text/plain": [
       "Index(['Student_ID', 'Name', 'Age', 'Grade', 'City'], dtype='object')"
      ]
     },
     "execution_count": 25,
     "metadata": {},
     "output_type": "execute_result"
    }
   ],
   "source": [
    "print(df2.index) #shows all the index in our dataframe and its datatype\n",
    "df2.columns #does the same but shows the columns and its type"
   ]
  },
  {
   "cell_type": "code",
   "execution_count": 26,
   "id": "5c2d803f-44e9-49a3-ac4e-58a37dc41e12",
   "metadata": {},
   "outputs": [
    {
     "data": {
      "text/plain": [
       "array([[101, 'Alice', 2.5, 85, 'New York'],\n",
       "       [102, 'Bob', 3.0, 92, 'Los Angeles'],\n",
       "       [103, 'Charlie', nan, 78, 'Chicago']], dtype=object)"
      ]
     },
     "execution_count": 26,
     "metadata": {},
     "output_type": "execute_result"
    }
   ],
   "source": [
    "df2.values #gives us an array of our dataframe, this can be useful if we want to convert it to a np array"
   ]
  },
  {
   "cell_type": "code",
   "execution_count": 27,
   "id": "c8064d8d-b796-4fc9-a407-a45defaeb448",
   "metadata": {
    "scrolled": true
   },
   "outputs": [
    {
     "data": {
      "text/html": [
       "<div>\n",
       "<style scoped>\n",
       "    .dataframe tbody tr th:only-of-type {\n",
       "        vertical-align: middle;\n",
       "    }\n",
       "\n",
       "    .dataframe tbody tr th {\n",
       "        vertical-align: top;\n",
       "    }\n",
       "\n",
       "    .dataframe thead th {\n",
       "        text-align: right;\n",
       "    }\n",
       "</style>\n",
       "<table border=\"1\" class=\"dataframe\">\n",
       "  <thead>\n",
       "    <tr style=\"text-align: right;\">\n",
       "      <th></th>\n",
       "      <th>Student_ID</th>\n",
       "      <th>Age</th>\n",
       "      <th>Grade</th>\n",
       "    </tr>\n",
       "  </thead>\n",
       "  <tbody>\n",
       "    <tr>\n",
       "      <th>count</th>\n",
       "      <td>3.0</td>\n",
       "      <td>2.000000</td>\n",
       "      <td>3.0</td>\n",
       "    </tr>\n",
       "    <tr>\n",
       "      <th>mean</th>\n",
       "      <td>102.0</td>\n",
       "      <td>2.750000</td>\n",
       "      <td>85.0</td>\n",
       "    </tr>\n",
       "    <tr>\n",
       "      <th>std</th>\n",
       "      <td>1.0</td>\n",
       "      <td>0.353553</td>\n",
       "      <td>7.0</td>\n",
       "    </tr>\n",
       "    <tr>\n",
       "      <th>min</th>\n",
       "      <td>101.0</td>\n",
       "      <td>2.500000</td>\n",
       "      <td>78.0</td>\n",
       "    </tr>\n",
       "    <tr>\n",
       "      <th>25%</th>\n",
       "      <td>101.5</td>\n",
       "      <td>2.625000</td>\n",
       "      <td>81.5</td>\n",
       "    </tr>\n",
       "    <tr>\n",
       "      <th>50%</th>\n",
       "      <td>102.0</td>\n",
       "      <td>2.750000</td>\n",
       "      <td>85.0</td>\n",
       "    </tr>\n",
       "    <tr>\n",
       "      <th>75%</th>\n",
       "      <td>102.5</td>\n",
       "      <td>2.875000</td>\n",
       "      <td>88.5</td>\n",
       "    </tr>\n",
       "    <tr>\n",
       "      <th>max</th>\n",
       "      <td>103.0</td>\n",
       "      <td>3.000000</td>\n",
       "      <td>92.0</td>\n",
       "    </tr>\n",
       "  </tbody>\n",
       "</table>\n",
       "</div>"
      ],
      "text/plain": [
       "       Student_ID       Age  Grade\n",
       "count         3.0  2.000000    3.0\n",
       "mean        102.0  2.750000   85.0\n",
       "std           1.0  0.353553    7.0\n",
       "min         101.0  2.500000   78.0\n",
       "25%         101.5  2.625000   81.5\n",
       "50%         102.0  2.750000   85.0\n",
       "75%         102.5  2.875000   88.5\n",
       "max         103.0  3.000000   92.0"
      ]
     },
     "execution_count": 27,
     "metadata": {},
     "output_type": "execute_result"
    }
   ],
   "source": [
    "df2.describe() #gives us the stastical analysis of our data"
   ]
  },
  {
   "cell_type": "code",
   "execution_count": 28,
   "id": "06f75587-1084-4a96-acbc-478dc0270b50",
   "metadata": {},
   "outputs": [
    {
     "data": {
      "text/html": [
       "<div>\n",
       "<style scoped>\n",
       "    .dataframe tbody tr th:only-of-type {\n",
       "        vertical-align: middle;\n",
       "    }\n",
       "\n",
       "    .dataframe tbody tr th {\n",
       "        vertical-align: top;\n",
       "    }\n",
       "\n",
       "    .dataframe thead th {\n",
       "        text-align: right;\n",
       "    }\n",
       "</style>\n",
       "<table border=\"1\" class=\"dataframe\">\n",
       "  <thead>\n",
       "    <tr style=\"text-align: right;\">\n",
       "      <th></th>\n",
       "      <th>A</th>\n",
       "      <th>B</th>\n",
       "      <th>C</th>\n",
       "    </tr>\n",
       "  </thead>\n",
       "  <tbody>\n",
       "    <tr>\n",
       "      <th>Student_ID</th>\n",
       "      <td>101</td>\n",
       "      <td>102</td>\n",
       "      <td>103</td>\n",
       "    </tr>\n",
       "    <tr>\n",
       "      <th>Name</th>\n",
       "      <td>Alice</td>\n",
       "      <td>Bob</td>\n",
       "      <td>Charlie</td>\n",
       "    </tr>\n",
       "    <tr>\n",
       "      <th>Age</th>\n",
       "      <td>2.5</td>\n",
       "      <td>3.0</td>\n",
       "      <td>NaN</td>\n",
       "    </tr>\n",
       "    <tr>\n",
       "      <th>Grade</th>\n",
       "      <td>85</td>\n",
       "      <td>92</td>\n",
       "      <td>78</td>\n",
       "    </tr>\n",
       "    <tr>\n",
       "      <th>City</th>\n",
       "      <td>New York</td>\n",
       "      <td>Los Angeles</td>\n",
       "      <td>Chicago</td>\n",
       "    </tr>\n",
       "  </tbody>\n",
       "</table>\n",
       "</div>"
      ],
      "text/plain": [
       "                   A            B        C\n",
       "Student_ID       101          102      103\n",
       "Name           Alice          Bob  Charlie\n",
       "Age              2.5          3.0      NaN\n",
       "Grade             85           92       78\n",
       "City        New York  Los Angeles  Chicago"
      ]
     },
     "execution_count": 28,
     "metadata": {},
     "output_type": "execute_result"
    }
   ],
   "source": [
    "df2.T #this will find the transpose just like in matrix where the row will be the column and vice versa"
   ]
  },
  {
   "cell_type": "code",
   "execution_count": 29,
   "id": "f69a0cd8-5598-42a6-b3e2-34273e816ad7",
   "metadata": {},
   "outputs": [
    {
     "data": {
      "text/html": [
       "<div>\n",
       "<style scoped>\n",
       "    .dataframe tbody tr th:only-of-type {\n",
       "        vertical-align: middle;\n",
       "    }\n",
       "\n",
       "    .dataframe tbody tr th {\n",
       "        vertical-align: top;\n",
       "    }\n",
       "\n",
       "    .dataframe thead th {\n",
       "        text-align: right;\n",
       "    }\n",
       "</style>\n",
       "<table border=\"1\" class=\"dataframe\">\n",
       "  <thead>\n",
       "    <tr style=\"text-align: right;\">\n",
       "      <th></th>\n",
       "      <th>Student_ID</th>\n",
       "      <th>Name</th>\n",
       "      <th>Age</th>\n",
       "      <th>Grade</th>\n",
       "      <th>City</th>\n",
       "    </tr>\n",
       "  </thead>\n",
       "  <tbody>\n",
       "    <tr>\n",
       "      <th>C</th>\n",
       "      <td>103</td>\n",
       "      <td>Charlie</td>\n",
       "      <td>NaN</td>\n",
       "      <td>78</td>\n",
       "      <td>Chicago</td>\n",
       "    </tr>\n",
       "    <tr>\n",
       "      <th>A</th>\n",
       "      <td>101</td>\n",
       "      <td>Alice</td>\n",
       "      <td>2.5</td>\n",
       "      <td>85</td>\n",
       "      <td>New York</td>\n",
       "    </tr>\n",
       "    <tr>\n",
       "      <th>B</th>\n",
       "      <td>102</td>\n",
       "      <td>Bob</td>\n",
       "      <td>3.0</td>\n",
       "      <td>92</td>\n",
       "      <td>Los Angeles</td>\n",
       "    </tr>\n",
       "  </tbody>\n",
       "</table>\n",
       "</div>"
      ],
      "text/plain": [
       "   Student_ID     Name  Age  Grade         City\n",
       "C         103  Charlie  NaN     78      Chicago\n",
       "A         101    Alice  2.5     85     New York\n",
       "B         102      Bob  3.0     92  Los Angeles"
      ]
     },
     "execution_count": 29,
     "metadata": {},
     "output_type": "execute_result"
    }
   ],
   "source": [
    "df2.sort_values(by='Grade') #the data will be arranged in ascending order by the values in the grade"
   ]
  },
  {
   "cell_type": "code",
   "execution_count": 30,
   "id": "d1486626-d9e1-4444-aedc-d382ad48f5fe",
   "metadata": {},
   "outputs": [
    {
     "data": {
      "text/html": [
       "<div>\n",
       "<style scoped>\n",
       "    .dataframe tbody tr th:only-of-type {\n",
       "        vertical-align: middle;\n",
       "    }\n",
       "\n",
       "    .dataframe tbody tr th {\n",
       "        vertical-align: top;\n",
       "    }\n",
       "\n",
       "    .dataframe thead th {\n",
       "        text-align: right;\n",
       "    }\n",
       "</style>\n",
       "<table border=\"1\" class=\"dataframe\">\n",
       "  <thead>\n",
       "    <tr style=\"text-align: right;\">\n",
       "      <th></th>\n",
       "      <th>Student_ID</th>\n",
       "      <th>Name</th>\n",
       "      <th>Age</th>\n",
       "      <th>Grade</th>\n",
       "      <th>City</th>\n",
       "    </tr>\n",
       "  </thead>\n",
       "  <tbody>\n",
       "    <tr>\n",
       "      <th>B</th>\n",
       "      <td>102</td>\n",
       "      <td>Bob</td>\n",
       "      <td>3.0</td>\n",
       "      <td>92</td>\n",
       "      <td>Los Angeles</td>\n",
       "    </tr>\n",
       "    <tr>\n",
       "      <th>C</th>\n",
       "      <td>103</td>\n",
       "      <td>Charlie</td>\n",
       "      <td>NaN</td>\n",
       "      <td>78</td>\n",
       "      <td>Chicago</td>\n",
       "    </tr>\n",
       "  </tbody>\n",
       "</table>\n",
       "</div>"
      ],
      "text/plain": [
       "   Student_ID     Name  Age  Grade         City\n",
       "B         102      Bob  3.0     92  Los Angeles\n",
       "C         103  Charlie  NaN     78      Chicago"
      ]
     },
     "execution_count": 30,
     "metadata": {},
     "output_type": "execute_result"
    }
   ],
   "source": [
    "df2[1:3] #slicing/selecting data"
   ]
  },
  {
   "cell_type": "code",
   "execution_count": 31,
   "id": "6a6d1658-ab07-4ced-9c30-70b3594cb0e1",
   "metadata": {},
   "outputs": [
    {
     "data": {
      "text/html": [
       "<div>\n",
       "<style scoped>\n",
       "    .dataframe tbody tr th:only-of-type {\n",
       "        vertical-align: middle;\n",
       "    }\n",
       "\n",
       "    .dataframe tbody tr th {\n",
       "        vertical-align: top;\n",
       "    }\n",
       "\n",
       "    .dataframe thead th {\n",
       "        text-align: right;\n",
       "    }\n",
       "</style>\n",
       "<table border=\"1\" class=\"dataframe\">\n",
       "  <thead>\n",
       "    <tr style=\"text-align: right;\">\n",
       "      <th></th>\n",
       "      <th>Age</th>\n",
       "      <th>Grade</th>\n",
       "    </tr>\n",
       "  </thead>\n",
       "  <tbody>\n",
       "    <tr>\n",
       "      <th>A</th>\n",
       "      <td>2.5</td>\n",
       "      <td>85</td>\n",
       "    </tr>\n",
       "    <tr>\n",
       "      <th>B</th>\n",
       "      <td>3.0</td>\n",
       "      <td>92</td>\n",
       "    </tr>\n",
       "    <tr>\n",
       "      <th>C</th>\n",
       "      <td>NaN</td>\n",
       "      <td>78</td>\n",
       "    </tr>\n",
       "  </tbody>\n",
       "</table>\n",
       "</div>"
      ],
      "text/plain": [
       "   Age  Grade\n",
       "A  2.5     85\n",
       "B  3.0     92\n",
       "C  NaN     78"
      ]
     },
     "execution_count": 31,
     "metadata": {},
     "output_type": "execute_result"
    }
   ],
   "source": [
    "df2[['Age', 'Grade']] #querying by the tags "
   ]
  },
  {
   "cell_type": "code",
   "execution_count": 32,
   "id": "9f3348a4-8d6c-4b5f-be26-e4a65350805a",
   "metadata": {},
   "outputs": [
    {
     "data": {
      "text/html": [
       "<div>\n",
       "<style scoped>\n",
       "    .dataframe tbody tr th:only-of-type {\n",
       "        vertical-align: middle;\n",
       "    }\n",
       "\n",
       "    .dataframe tbody tr th {\n",
       "        vertical-align: top;\n",
       "    }\n",
       "\n",
       "    .dataframe thead th {\n",
       "        text-align: right;\n",
       "    }\n",
       "</style>\n",
       "<table border=\"1\" class=\"dataframe\">\n",
       "  <thead>\n",
       "    <tr style=\"text-align: right;\">\n",
       "      <th></th>\n",
       "      <th>Student_ID</th>\n",
       "      <th>Name</th>\n",
       "      <th>Age</th>\n",
       "      <th>Grade</th>\n",
       "      <th>City</th>\n",
       "    </tr>\n",
       "  </thead>\n",
       "  <tbody>\n",
       "    <tr>\n",
       "      <th>B</th>\n",
       "      <td>102</td>\n",
       "      <td>Bob</td>\n",
       "      <td>3.0</td>\n",
       "      <td>92</td>\n",
       "      <td>Los Angeles</td>\n",
       "    </tr>\n",
       "    <tr>\n",
       "      <th>C</th>\n",
       "      <td>103</td>\n",
       "      <td>Charlie</td>\n",
       "      <td>NaN</td>\n",
       "      <td>78</td>\n",
       "      <td>Chicago</td>\n",
       "    </tr>\n",
       "  </tbody>\n",
       "</table>\n",
       "</div>"
      ],
      "text/plain": [
       "   Student_ID     Name  Age  Grade         City\n",
       "B         102      Bob  3.0     92  Los Angeles\n",
       "C         103  Charlie  NaN     78      Chicago"
      ]
     },
     "execution_count": 32,
     "metadata": {},
     "output_type": "execute_result"
    }
   ],
   "source": [
    "df2.iloc[1:3] #does somehow the same with our slicing, it queries rows of 2,3"
   ]
  },
  {
   "cell_type": "code",
   "execution_count": 33,
   "id": "91fda4cd-2642-4326-ab6e-6b49d9dee578",
   "metadata": {},
   "outputs": [
    {
     "data": {
      "text/html": [
       "<div>\n",
       "<style scoped>\n",
       "    .dataframe tbody tr th:only-of-type {\n",
       "        vertical-align: middle;\n",
       "    }\n",
       "\n",
       "    .dataframe tbody tr th {\n",
       "        vertical-align: top;\n",
       "    }\n",
       "\n",
       "    .dataframe thead th {\n",
       "        text-align: right;\n",
       "    }\n",
       "</style>\n",
       "<table border=\"1\" class=\"dataframe\">\n",
       "  <thead>\n",
       "    <tr style=\"text-align: right;\">\n",
       "      <th></th>\n",
       "      <th>Student_ID</th>\n",
       "      <th>Name</th>\n",
       "      <th>Age</th>\n",
       "      <th>Grade</th>\n",
       "      <th>City</th>\n",
       "    </tr>\n",
       "  </thead>\n",
       "  <tbody>\n",
       "    <tr>\n",
       "      <th>A</th>\n",
       "      <td>101</td>\n",
       "      <td>Alice</td>\n",
       "      <td>2.5</td>\n",
       "      <td>85</td>\n",
       "      <td>New York</td>\n",
       "    </tr>\n",
       "    <tr>\n",
       "      <th>B</th>\n",
       "      <td>102</td>\n",
       "      <td>Bob</td>\n",
       "      <td>3.0</td>\n",
       "      <td>92</td>\n",
       "      <td>Los Angeles</td>\n",
       "    </tr>\n",
       "    <tr>\n",
       "      <th>C</th>\n",
       "      <td>103</td>\n",
       "      <td>Charlie</td>\n",
       "      <td>NaN</td>\n",
       "      <td>78</td>\n",
       "      <td>Chicago</td>\n",
       "    </tr>\n",
       "  </tbody>\n",
       "</table>\n",
       "</div>"
      ],
      "text/plain": [
       "   Student_ID     Name  Age  Grade         City\n",
       "A         101    Alice  2.5     85     New York\n",
       "B         102      Bob  3.0     92  Los Angeles\n",
       "C         103  Charlie  NaN     78      Chicago"
      ]
     },
     "execution_count": 33,
     "metadata": {},
     "output_type": "execute_result"
    }
   ],
   "source": [
    "df3= df2.copy() #just copies the dataframe of df2 to df3\n",
    "df3"
   ]
  },
  {
   "cell_type": "code",
   "execution_count": 34,
   "id": "e08e4e77-ebcb-4e32-9d7c-218ff26428aa",
   "metadata": {},
   "outputs": [
    {
     "data": {
      "text/html": [
       "<div>\n",
       "<style scoped>\n",
       "    .dataframe tbody tr th:only-of-type {\n",
       "        vertical-align: middle;\n",
       "    }\n",
       "\n",
       "    .dataframe tbody tr th {\n",
       "        vertical-align: top;\n",
       "    }\n",
       "\n",
       "    .dataframe thead th {\n",
       "        text-align: right;\n",
       "    }\n",
       "</style>\n",
       "<table border=\"1\" class=\"dataframe\">\n",
       "  <thead>\n",
       "    <tr style=\"text-align: right;\">\n",
       "      <th></th>\n",
       "      <th>Student_ID</th>\n",
       "      <th>Name</th>\n",
       "      <th>Age</th>\n",
       "      <th>Grade</th>\n",
       "      <th>City</th>\n",
       "    </tr>\n",
       "  </thead>\n",
       "  <tbody>\n",
       "    <tr>\n",
       "      <th>A</th>\n",
       "      <td>False</td>\n",
       "      <td>False</td>\n",
       "      <td>False</td>\n",
       "      <td>False</td>\n",
       "      <td>False</td>\n",
       "    </tr>\n",
       "    <tr>\n",
       "      <th>B</th>\n",
       "      <td>False</td>\n",
       "      <td>False</td>\n",
       "      <td>False</td>\n",
       "      <td>False</td>\n",
       "      <td>False</td>\n",
       "    </tr>\n",
       "    <tr>\n",
       "      <th>C</th>\n",
       "      <td>False</td>\n",
       "      <td>False</td>\n",
       "      <td>True</td>\n",
       "      <td>False</td>\n",
       "      <td>False</td>\n",
       "    </tr>\n",
       "  </tbody>\n",
       "</table>\n",
       "</div>"
      ],
      "text/plain": [
       "   Student_ID   Name    Age  Grade   City\n",
       "A       False  False  False  False  False\n",
       "B       False  False  False  False  False\n",
       "C       False  False   True  False  False"
      ]
     },
     "execution_count": 34,
     "metadata": {},
     "output_type": "execute_result"
    }
   ],
   "source": [
    "df3.isnull() #replaces all data in the dataframe with boolean values and is true if any null(Nan) is present "
   ]
  },
  {
   "cell_type": "code",
   "execution_count": 35,
   "id": "846c1e5f-63ea-4757-afb3-67c8dd1597a6",
   "metadata": {},
   "outputs": [
    {
     "data": {
      "text/html": [
       "<div>\n",
       "<style scoped>\n",
       "    .dataframe tbody tr th:only-of-type {\n",
       "        vertical-align: middle;\n",
       "    }\n",
       "\n",
       "    .dataframe tbody tr th {\n",
       "        vertical-align: top;\n",
       "    }\n",
       "\n",
       "    .dataframe thead th {\n",
       "        text-align: right;\n",
       "    }\n",
       "</style>\n",
       "<table border=\"1\" class=\"dataframe\">\n",
       "  <thead>\n",
       "    <tr style=\"text-align: right;\">\n",
       "      <th></th>\n",
       "      <th>Student_ID</th>\n",
       "      <th>Name</th>\n",
       "      <th>Age</th>\n",
       "      <th>Grade</th>\n",
       "      <th>City</th>\n",
       "    </tr>\n",
       "  </thead>\n",
       "  <tbody>\n",
       "    <tr>\n",
       "      <th>A</th>\n",
       "      <td>101</td>\n",
       "      <td>Alice</td>\n",
       "      <td>2.5</td>\n",
       "      <td>85</td>\n",
       "      <td>New York</td>\n",
       "    </tr>\n",
       "    <tr>\n",
       "      <th>B</th>\n",
       "      <td>102</td>\n",
       "      <td>Peter</td>\n",
       "      <td>3.0</td>\n",
       "      <td>92</td>\n",
       "      <td>Los Angeles</td>\n",
       "    </tr>\n",
       "    <tr>\n",
       "      <th>C</th>\n",
       "      <td>103</td>\n",
       "      <td>Charlie</td>\n",
       "      <td>NaN</td>\n",
       "      <td>78</td>\n",
       "      <td>Chicago</td>\n",
       "    </tr>\n",
       "  </tbody>\n",
       "</table>\n",
       "</div>"
      ],
      "text/plain": [
       "   Student_ID     Name  Age  Grade         City\n",
       "A         101    Alice  2.5     85     New York\n",
       "B         102    Peter  3.0     92  Los Angeles\n",
       "C         103  Charlie  NaN     78      Chicago"
      ]
     },
     "execution_count": 35,
     "metadata": {},
     "output_type": "execute_result"
    }
   ],
   "source": [
    "#changes/edit the data in the dataframe by using both the index and column to get the location of the data that wants to be changed\n",
    "df3.loc['B', 'Name']= 'Peter'\n",
    "df3"
   ]
  },
  {
   "cell_type": "code",
   "execution_count": 36,
   "id": "af088aee-3a36-471d-bcf4-11f07b18e900",
   "metadata": {},
   "outputs": [
    {
     "data": {
      "text/plain": [
       "Age       2.75\n",
       "Grade    85.00\n",
       "dtype: float64"
      ]
     },
     "execution_count": 36,
     "metadata": {},
     "output_type": "execute_result"
    }
   ],
   "source": [
    "df3[['Age', 'Grade']].mean() #gets the mean of the data under the column specified in the []"
   ]
  },
  {
   "cell_type": "code",
   "execution_count": 37,
   "id": "697992ca-fa26-4a46-862d-935f23e4caff",
   "metadata": {},
   "outputs": [
    {
     "data": {
      "text/plain": [
       "np.float64(5.5)"
      ]
     },
     "execution_count": 37,
     "metadata": {},
     "output_type": "execute_result"
    }
   ],
   "source": [
    "df3['Age'].sum() #gets the sum of all the data under the column age "
   ]
  },
  {
   "cell_type": "markdown",
   "id": "e4dd2e00-e5cc-48be-b753-91288a6e31d3",
   "metadata": {},
   "source": [
    "Strings And Pandas"
   ]
  },
  {
   "cell_type": "code",
   "execution_count": 59,
   "id": "4f4e640f-8a0f-4ecf-a368-159b4c6e269b",
   "metadata": {},
   "outputs": [
    {
     "data": {
      "text/plain": [
       "0       A\n",
       "1       C\n",
       "2       D\n",
       "3     AAA\n",
       "4    BACA\n",
       "5     NaN\n",
       "6     CBA\n",
       "7     COW\n",
       "8     OWL\n",
       "dtype: object"
      ]
     },
     "execution_count": 59,
     "metadata": {},
     "output_type": "execute_result"
    }
   ],
   "source": [
    "#creating a series of strings and how to handle them using pandas\n",
    "string= pd.Series(['A', 'C', 'D', 'Aaa', 'BaCa', np.nan, 'CBA', 'cow', 'owl' ])\n",
    "string.str.upper()"
   ]
  },
  {
   "cell_type": "markdown",
   "id": "1259c268-586c-4e9c-8be1-7d991f94250a",
   "metadata": {},
   "source": [
    "Operations for DataFrame missing Values"
   ]
  },
  {
   "cell_type": "code",
   "execution_count": 60,
   "id": "cd834cd2-c3d3-4e7c-9a9b-aeef5e5f6afc",
   "metadata": {},
   "outputs": [
    {
     "data": {
      "text/html": [
       "<div>\n",
       "<style scoped>\n",
       "    .dataframe tbody tr th:only-of-type {\n",
       "        vertical-align: middle;\n",
       "    }\n",
       "\n",
       "    .dataframe tbody tr th {\n",
       "        vertical-align: top;\n",
       "    }\n",
       "\n",
       "    .dataframe thead th {\n",
       "        text-align: right;\n",
       "    }\n",
       "</style>\n",
       "<table border=\"1\" class=\"dataframe\">\n",
       "  <thead>\n",
       "    <tr style=\"text-align: right;\">\n",
       "      <th></th>\n",
       "      <th>Student_ID</th>\n",
       "      <th>Name</th>\n",
       "      <th>Age</th>\n",
       "      <th>Grade</th>\n",
       "      <th>City</th>\n",
       "    </tr>\n",
       "  </thead>\n",
       "  <tbody>\n",
       "    <tr>\n",
       "      <th>A</th>\n",
       "      <td>101</td>\n",
       "      <td>Alice</td>\n",
       "      <td>2.5</td>\n",
       "      <td>85</td>\n",
       "      <td>New York</td>\n",
       "    </tr>\n",
       "    <tr>\n",
       "      <th>B</th>\n",
       "      <td>102</td>\n",
       "      <td>Peter</td>\n",
       "      <td>3.0</td>\n",
       "      <td>92</td>\n",
       "      <td>Los Angeles</td>\n",
       "    </tr>\n",
       "    <tr>\n",
       "      <th>C</th>\n",
       "      <td>103</td>\n",
       "      <td>Charlie</td>\n",
       "      <td>4.0</td>\n",
       "      <td>78</td>\n",
       "      <td>Chicago</td>\n",
       "    </tr>\n",
       "  </tbody>\n",
       "</table>\n",
       "</div>"
      ],
      "text/plain": [
       "   Student_ID     Name  Age  Grade         City\n",
       "A         101    Alice  2.5     85     New York\n",
       "B         102    Peter  3.0     92  Los Angeles\n",
       "C         103  Charlie  4.0     78      Chicago"
      ]
     },
     "execution_count": 60,
     "metadata": {},
     "output_type": "execute_result"
    }
   ],
   "source": [
    "df4=df3.copy() \n",
    "df4.fillna(4) #we want to fill all null values with 4"
   ]
  },
  {
   "cell_type": "code",
   "execution_count": 61,
   "id": "96400965-644a-4315-a1a3-fda9958bb5e2",
   "metadata": {},
   "outputs": [
    {
     "data": {
      "text/plain": [
       "A    2.50\n",
       "B    3.00\n",
       "C    2.75\n",
       "Name: Age, dtype: float64"
      ]
     },
     "execution_count": 61,
     "metadata": {},
     "output_type": "execute_result"
    }
   ],
   "source": [
    "df4=df3.copy()\n",
    "meangrade=df4['Age'].mean()\n",
    "df4['Age'].fillna(meangrade) #this is if we want to fill our null values in our age column with the mean of our age\n"
   ]
  },
  {
   "cell_type": "code",
   "execution_count": 62,
   "id": "daf63918-e839-4924-996e-c6018f474b02",
   "metadata": {},
   "outputs": [
    {
     "data": {
      "text/html": [
       "<div>\n",
       "<style scoped>\n",
       "    .dataframe tbody tr th:only-of-type {\n",
       "        vertical-align: middle;\n",
       "    }\n",
       "\n",
       "    .dataframe tbody tr th {\n",
       "        vertical-align: top;\n",
       "    }\n",
       "\n",
       "    .dataframe thead th {\n",
       "        text-align: right;\n",
       "    }\n",
       "</style>\n",
       "<table border=\"1\" class=\"dataframe\">\n",
       "  <thead>\n",
       "    <tr style=\"text-align: right;\">\n",
       "      <th></th>\n",
       "      <th>Student_ID</th>\n",
       "      <th>Name</th>\n",
       "      <th>Age</th>\n",
       "      <th>Grade</th>\n",
       "      <th>City</th>\n",
       "    </tr>\n",
       "  </thead>\n",
       "  <tbody>\n",
       "    <tr>\n",
       "      <th>A</th>\n",
       "      <td>101</td>\n",
       "      <td>Alice</td>\n",
       "      <td>2.5</td>\n",
       "      <td>85</td>\n",
       "      <td>New York</td>\n",
       "    </tr>\n",
       "    <tr>\n",
       "      <th>B</th>\n",
       "      <td>102</td>\n",
       "      <td>Peter</td>\n",
       "      <td>3.0</td>\n",
       "      <td>92</td>\n",
       "      <td>Los Angeles</td>\n",
       "    </tr>\n",
       "  </tbody>\n",
       "</table>\n",
       "</div>"
      ],
      "text/plain": [
       "   Student_ID   Name  Age  Grade         City\n",
       "A         101  Alice  2.5     85     New York\n",
       "B         102  Peter  3.0     92  Los Angeles"
      ]
     },
     "execution_count": 62,
     "metadata": {},
     "output_type": "execute_result"
    }
   ],
   "source": [
    "df5=df3.copy()\n",
    "df5.dropna(how='any') #this will drop any null values in our dataframe and spits out our new data without the Nan values"
   ]
  },
  {
   "cell_type": "markdown",
   "id": "ffc13ad3-4f02-405b-aa90-508c47412e81",
   "metadata": {},
   "source": [
    "DataFrame File Operations"
   ]
  },
  {
   "cell_type": "code",
   "execution_count": 64,
   "id": "152a71b0-3ef3-46ad-8471-4d8c37a3d739",
   "metadata": {},
   "outputs": [],
   "source": [
    "df3.to_csv('students_data.csv') #saving a csv file -> dataframe.to_csv('title') it saves to our working directory"
   ]
  },
  {
   "cell_type": "code",
   "execution_count": 65,
   "id": "8d12a2c7-f815-47c7-98ff-97ca208e9456",
   "metadata": {},
   "outputs": [
    {
     "data": {
      "text/html": [
       "<div>\n",
       "<style scoped>\n",
       "    .dataframe tbody tr th:only-of-type {\n",
       "        vertical-align: middle;\n",
       "    }\n",
       "\n",
       "    .dataframe tbody tr th {\n",
       "        vertical-align: top;\n",
       "    }\n",
       "\n",
       "    .dataframe thead th {\n",
       "        text-align: right;\n",
       "    }\n",
       "</style>\n",
       "<table border=\"1\" class=\"dataframe\">\n",
       "  <thead>\n",
       "    <tr style=\"text-align: right;\">\n",
       "      <th></th>\n",
       "      <th>Unnamed: 0</th>\n",
       "      <th>Student_ID</th>\n",
       "      <th>Name</th>\n",
       "      <th>Age</th>\n",
       "      <th>Grade</th>\n",
       "      <th>City</th>\n",
       "    </tr>\n",
       "  </thead>\n",
       "  <tbody>\n",
       "    <tr>\n",
       "      <th>0</th>\n",
       "      <td>A</td>\n",
       "      <td>101</td>\n",
       "      <td>Alice</td>\n",
       "      <td>2.5</td>\n",
       "      <td>85</td>\n",
       "      <td>New York</td>\n",
       "    </tr>\n",
       "    <tr>\n",
       "      <th>1</th>\n",
       "      <td>B</td>\n",
       "      <td>102</td>\n",
       "      <td>Peter</td>\n",
       "      <td>3.0</td>\n",
       "      <td>92</td>\n",
       "      <td>Los Angeles</td>\n",
       "    </tr>\n",
       "    <tr>\n",
       "      <th>2</th>\n",
       "      <td>C</td>\n",
       "      <td>103</td>\n",
       "      <td>Charlie</td>\n",
       "      <td>NaN</td>\n",
       "      <td>78</td>\n",
       "      <td>Chicago</td>\n",
       "    </tr>\n",
       "  </tbody>\n",
       "</table>\n",
       "</div>"
      ],
      "text/plain": [
       "  Unnamed: 0  Student_ID     Name  Age  Grade         City\n",
       "0          A         101    Alice  2.5     85     New York\n",
       "1          B         102    Peter  3.0     92  Los Angeles\n",
       "2          C         103  Charlie  NaN     78      Chicago"
      ]
     },
     "execution_count": 65,
     "metadata": {},
     "output_type": "execute_result"
    }
   ],
   "source": [
    "df_data= pd.read_csv('students_data.csv') #reading the csv file since it was saved in our working directory\n",
    "df_data"
   ]
  },
  {
   "cell_type": "code",
   "execution_count": 66,
   "id": "4bf76cda-ccfe-4e8b-a4a3-5ab7dbf49a00",
   "metadata": {},
   "outputs": [
    {
     "data": {
      "text/html": [
       "<div>\n",
       "<style scoped>\n",
       "    .dataframe tbody tr th:only-of-type {\n",
       "        vertical-align: middle;\n",
       "    }\n",
       "\n",
       "    .dataframe tbody tr th {\n",
       "        vertical-align: top;\n",
       "    }\n",
       "\n",
       "    .dataframe thead th {\n",
       "        text-align: right;\n",
       "    }\n",
       "</style>\n",
       "<table border=\"1\" class=\"dataframe\">\n",
       "  <thead>\n",
       "    <tr style=\"text-align: right;\">\n",
       "      <th></th>\n",
       "      <th>Unnamed: 0</th>\n",
       "      <th>Student_ID</th>\n",
       "      <th>Name</th>\n",
       "      <th>Age</th>\n",
       "      <th>Grade</th>\n",
       "      <th>City</th>\n",
       "    </tr>\n",
       "  </thead>\n",
       "  <tbody>\n",
       "    <tr>\n",
       "      <th>0</th>\n",
       "      <td>A</td>\n",
       "      <td>101</td>\n",
       "      <td>Alice</td>\n",
       "      <td>2.5</td>\n",
       "      <td>85</td>\n",
       "      <td>New York</td>\n",
       "    </tr>\n",
       "    <tr>\n",
       "      <th>1</th>\n",
       "      <td>B</td>\n",
       "      <td>102</td>\n",
       "      <td>Peter</td>\n",
       "      <td>3.0</td>\n",
       "      <td>92</td>\n",
       "      <td>Los Angeles</td>\n",
       "    </tr>\n",
       "    <tr>\n",
       "      <th>2</th>\n",
       "      <td>C</td>\n",
       "      <td>103</td>\n",
       "      <td>Charlie</td>\n",
       "      <td>NaN</td>\n",
       "      <td>78</td>\n",
       "      <td>Chicago</td>\n",
       "    </tr>\n",
       "  </tbody>\n",
       "</table>\n",
       "</div>"
      ],
      "text/plain": [
       "  Unnamed: 0  Student_ID     Name  Age  Grade         City\n",
       "0          A         101    Alice  2.5     85     New York\n",
       "1          B         102    Peter  3.0     92  Los Angeles\n",
       "2          C         103  Charlie  NaN     78      Chicago"
      ]
     },
     "execution_count": 66,
     "metadata": {},
     "output_type": "execute_result"
    }
   ],
   "source": [
    "#creating and reading an excel spread sheet with its name and creates an empty space to replace the Nan value\n",
    "df3.to_excel('animal.xlsx', sheet_name='Sheet1')\n",
    "df_animal2= pd.read_excel('animal.xlsx', 'Sheet1', index_col=None, na_values=['NA'])\n",
    "df_animal2"
   ]
  },
  {
   "cell_type": "markdown",
   "id": "6d64c0ad-7922-4fac-b9cc-30bf62c4650b",
   "metadata": {},
   "source": [
    "Visualization in Pandas"
   ]
  },
  {
   "cell_type": "code",
   "execution_count": 68,
   "id": "a04be756-b6d8-4c07-a1ec-0e5137843577",
   "metadata": {},
   "outputs": [
    {
     "data": {
      "text/plain": [
       "<Axes: >"
      ]
     },
     "execution_count": 68,
     "metadata": {},
     "output_type": "execute_result"
    },
    {
     "data": {
      "image/png": "[encoded data removed]",
      "text/plain": [
       "<Figure size 640x480 with 1 Axes>"
      ]
     },
     "metadata": {},
     "output_type": "display_data"
    }
   ],
   "source": [
    "#series and dataframe line chart\n",
    "import numpy as np\n",
    "%matplotlib inline\n",
    "\n",
    "#this will create a random set of data using the date range as its index\n",
    "ts= pd.Series(np.random.randn(50), index= pd.date_range('today', periods=50))\n",
    "ts=ts.cumsum() #get the cummilative sum of the dataframe\n",
    "#plot the cummilative sum using the pandas inbuilt plotting function\n",
    "ts.plot()"
   ]
  },
  {
   "cell_type": "code",
   "execution_count": 70,
   "id": "f403c205-43fc-4611-83bb-49278feb751e",
   "metadata": {},
   "outputs": [
    {
     "data": {
      "text/plain": [
       "<Axes: >"
      ]
     },
     "execution_count": 70,
     "metadata": {},
     "output_type": "execute_result"
    },
    {
     "data": {
      "image/png": "[encoded data removed]",
      "text/plain": [
       "<Figure size 640x480 with 1 Axes>"
      ]
     },
     "metadata": {},
     "output_type": "display_data"
    }
   ],
   "source": [
    "#Plots a dataframe graph of 50 random data in 4 columns with the same index we used as last time(date_range), and has columns a,b,x,y\n",
    "df= pd.DataFrame(np.random.randn(50,4), index=ts.index, columns=['A', 'B', 'X', 'Y']) \n",
    "df= df.cumsum()\n",
    "df.plot()"
   ]
  },
  {
   "cell_type": "markdown",
   "id": "de642644-f900-4a67-bfc2-a1ff2e62cfae",
   "metadata": {},
   "source": [
    "Remove Repeated data with Pandas"
   ]
  },
  {
   "cell_type": "code",
   "execution_count": 71,
   "id": "b6d5daf2-a44d-4d25-ad15-3ab871d62465",
   "metadata": {},
   "outputs": [
    {
     "data": {
      "text/html": [
       "<div>\n",
       "<style scoped>\n",
       "    .dataframe tbody tr th:only-of-type {\n",
       "        vertical-align: middle;\n",
       "    }\n",
       "\n",
       "    .dataframe tbody tr th {\n",
       "        vertical-align: top;\n",
       "    }\n",
       "\n",
       "    .dataframe thead th {\n",
       "        text-align: right;\n",
       "    }\n",
       "</style>\n",
       "<table border=\"1\" class=\"dataframe\">\n",
       "  <thead>\n",
       "    <tr style=\"text-align: right;\">\n",
       "      <th></th>\n",
       "      <th>A</th>\n",
       "    </tr>\n",
       "  </thead>\n",
       "  <tbody>\n",
       "    <tr>\n",
       "      <th>0</th>\n",
       "      <td>1</td>\n",
       "    </tr>\n",
       "    <tr>\n",
       "      <th>1</th>\n",
       "      <td>2</td>\n",
       "    </tr>\n",
       "    <tr>\n",
       "      <th>4</th>\n",
       "      <td>4</td>\n",
       "    </tr>\n",
       "    <tr>\n",
       "      <th>6</th>\n",
       "      <td>5</td>\n",
       "    </tr>\n",
       "    <tr>\n",
       "      <th>8</th>\n",
       "      <td>6</td>\n",
       "    </tr>\n",
       "    <tr>\n",
       "      <th>10</th>\n",
       "      <td>7</td>\n",
       "    </tr>\n",
       "    <tr>\n",
       "      <th>11</th>\n",
       "      <td>8</td>\n",
       "    </tr>\n",
       "  </tbody>\n",
       "</table>\n",
       "</div>"
      ],
      "text/plain": [
       "    A\n",
       "0   1\n",
       "1   2\n",
       "4   4\n",
       "6   5\n",
       "8   6\n",
       "10  7\n",
       "11  8"
      ]
     },
     "execution_count": 71,
     "metadata": {},
     "output_type": "execute_result"
    }
   ],
   "source": [
    "df= pd.DataFrame({'A': [1, 2, 2, 2, 4, 4, 5, 5, 6, 6, 7, 8, 8]})\n",
    "#checks and removes repeated set of data \n",
    "df.loc[ df['A'].shift() != df['A'] ]"
   ]
  },
  {
   "cell_type": "code",
   "execution_count": null,
   "id": "2f02bba8-6f06-4cc0-b805-a8ae6bf8823a",
   "metadata": {},
   "outputs": [],
   "source": []
  }
 ],
 "metadata": {
  "kernelspec": {
   "display_name": "Python 3 (ipykernel)",
   "language": "python",
   "name": "python3"
  },
  "language_info": {
   "codemirror_mode": {
    "name": "ipython",
    "version": 3
   },
   "file_extension": ".py",
   "mimetype": "text/x-python",
   "name": "python",
   "nbconvert_exporter": "python",
   "pygments_lexer": "ipython3",
   "version": "3.12.11"
  }
 },
 "nbformat": 4,
 "nbformat_minor": 5
}
